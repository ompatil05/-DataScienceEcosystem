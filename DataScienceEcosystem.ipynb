{
 "cells": [
  {
   "cell_type": "markdown",
   "id": "1fda66ef-7114-46d5-a5c5-84b97479bc38",
   "metadata": {},
   "source": [
    "# Data Science Tools and Ecosystem"
   ]
  },
  {
   "cell_type": "markdown",
   "id": "e524278d-8da0-44ac-b19b-f5e33d3fd1f9",
   "metadata": {},
   "source": [
    "In this notebook, Data Science Tools and Ecosystem are summarized.\n",
    "\n"
   ]
  },
  {
   "cell_type": "markdown",
   "id": "63345bb7-d5ba-48e6-93f9-e34468764b8f",
   "metadata": {},
   "source": [
    "**Objectives:**\n",
    "+ Python\n",
    "+ R\n",
    "+ SQL\n",
    "+ Jupyter\n",
    "+ Github"
   ]
  },
  {
   "cell_type": "markdown",
   "id": "90c19a2b-c165-4cd3-85e3-f78dbfd0a01e",
   "metadata": {},
   "source": [
    "Some of the popular languages that Data Scientists use are:\n",
    "\n",
    "1. Python\n",
    "2. R\n",
    "3. SQL\n"
   ]
  },
  {
   "cell_type": "markdown",
   "id": "f6060265-fa90-40d8-971a-54311fdf7686",
   "metadata": {},
   "source": [
    "Some of the commonly used libraries used by Data Scientists include:\n",
    "\n",
    "1. Pandas\n",
    "2. Numpy\n",
    "3. Matplotlib"
   ]
  },
  {
   "cell_type": "markdown",
   "id": "50994705-a710-4cdb-afa6-c6431027590b",
   "metadata": {},
   "source": [
    "Data Science Tools \n",
    "------------------|\n",
    "Jupyter Notebook |\n",
    "RStudio |\n",
    "VS Code|"
   ]
  },
  {
   "cell_type": "markdown",
   "id": "b7988ac4-fc95-4db0-b33c-c143fec17fc8",
   "metadata": {},
   "source": [
    "### Below are a few examples of evaluating arithmetic expressions in Python\n",
    "\n"
   ]
  },
  {
   "cell_type": "code",
   "execution_count": 3,
   "id": "fe3f7731-5edd-465d-9d3f-bcdaa436f159",
   "metadata": {},
   "outputs": [
    {
     "data": {
      "text/plain": [
       "17"
      ]
     },
     "execution_count": 3,
     "metadata": {},
     "output_type": "execute_result"
    }
   ],
   "source": [
    "# This a simple arithmetic expression to mutiply then add integers\n",
    "(3*4)+5"
   ]
  },
  {
   "cell_type": "code",
   "execution_count": 4,
   "id": "629d81f1-9a95-41d3-9734-97355c639cf5",
   "metadata": {},
   "outputs": [
    {
     "data": {
      "text/plain": [
       "3.3333333333333335"
      ]
     },
     "execution_count": 4,
     "metadata": {},
     "output_type": "execute_result"
    }
   ],
   "source": [
    "# This will convert 200 minutes to hours by diving by 60\n",
    "200/60"
   ]
  },
  {
   "cell_type": "markdown",
   "id": "46c16db7-3c34-4cad-8695-85a8108b3849",
   "metadata": {},
   "source": [
    "## Author Om Haridas Patil"
   ]
  },
  {
   "cell_type": "code",
   "execution_count": null,
   "id": "d9a6b0ed-ada1-40f7-ade4-a656e23c6dc3",
   "metadata": {},
   "outputs": [],
   "source": []
  }
 ],
 "metadata": {
  "kernelspec": {
   "display_name": "Python 3 (ipykernel)",
   "language": "python",
   "name": "python3"
  },
  "language_info": {
   "codemirror_mode": {
    "name": "ipython",
    "version": 3
   },
   "file_extension": ".py",
   "mimetype": "text/x-python",
   "name": "python",
   "nbconvert_exporter": "python",
   "pygments_lexer": "ipython3",
   "version": "3.13.5"
  }
 },
 "nbformat": 4,
 "nbformat_minor": 5
}
